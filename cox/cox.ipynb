{
 "cells": [
  {
   "cell_type": "markdown",
   "metadata": {},
   "source": [
    "# Cox PH analysis"
   ]
  },
  {
   "cell_type": "markdown",
   "metadata": {},
   "source": [
    "### Environment setup"
   ]
  },
  {
   "cell_type": "code",
   "execution_count": null,
   "metadata": {
    "collapsed": true,
    "jupyter": {
     "outputs_hidden": true
    }
   },
   "outputs": [],
   "source": [
    "pip install lifelines"
   ]
  },
  {
   "cell_type": "code",
   "execution_count": null,
   "metadata": {},
   "outputs": [],
   "source": [
    "import pandas as pd\n",
    "import numpy as np\n",
    "import matplotlib.pyplot as plt\n",
    "import matplotlib.colors\n",
    "import seaborn as sns\n",
    "import math\n",
    "import scipy.stats as sp\n",
    "from scipy.cluster.hierarchy import (\n",
    "    linkage,\n",
    "    dendrogram,\n",
    "    fcluster,\n",
    "    set_link_color_palette,\n",
    ")\n",
    "from scipy.spatial.distance import squareform\n",
    "from sklearn.preprocessing import MinMaxScaler\n",
    "from sklearn.model_selection import train_test_split\n",
    "import statsmodels as sm\n",
    "from statsmodels.stats.outliers_influence import variance_inflation_factor\n",
    "from ukb_cox_proportional_hazards_utils import (\n",
    "    compute_is_cancer_at_recruitment,\n",
    "    compute_survival_time_with_age_for_label,\n",
    ")\n",
    "from outlier_methods import detect_outliers\n",
    "from lifelines import CoxPHFitter\n",
    "import json"
   ]
  },
  {
   "cell_type": "code",
   "execution_count": null,
   "metadata": {},
   "outputs": [],
   "source": [
    "s3_path = 's3://file_path/analysis/'"
   ]
  },
  {
   "cell_type": "code",
   "execution_count": null,
   "metadata": {},
   "outputs": [],
   "source": [
    "# Cleaner variable names\n",
    "\n",
    "with open('ukb_feature_rename_map.json', 'r') as f:\n",
    "    rename_mapping = json.load(f)"
   ]
  },
  {
   "cell_type": "markdown",
   "metadata": {},
   "source": [
    "### Prepare data"
   ]
  },
  {
   "cell_type": "markdown",
   "metadata": {},
   "source": [
    "Exclude patients, calculate age at diagnosis and survival as a factor of diagnosis"
   ]
  },
  {
   "cell_type": "code",
   "execution_count": null,
   "metadata": {},
   "outputs": [],
   "source": [
    "# Get cancer info\n",
    "\n",
    "df_merged = pd.read_csv('s3://file_path/file_1.csv', low_memory=False)\n",
    "df_merged['is_cancer-0'] = df_merged.apply(compute_is_cancer_at_recruitment, axis=1)\n",
    "df_label = pd.read_csv('s3://file_path/file_2.csv')\n",
    "\n",
    "controls_with_othercancer = (\n",
    "    pd.merge(df_merged[['eid']], df_label, on='eid', how='left')\n",
    "    .query(\n",
    "        'label_first_occurred_date.isna() & othercancer_first_occurred_date.notna()',\n",
    "        engine='python',\n",
    "    )\n",
    "    .eid.unique()\n",
    ")\n",
    "print(\n",
    "    f'Number of participants who developed cancer other than CRC: {len(controls_with_othercancer)}'\n",
    ")\n",
    "survival_df = df_merged.loc[~df_merged.eid.isin(controls_with_othercancer), :]\n",
    "othercancer_pre_crc = (\n",
    "    pd.merge(df_merged[['eid']], df_label, on='eid', how='left')\n",
    "    .query(\n",
    "        '(label_first_occurred_date.notna()) & (othercancer_first_occurred_date.notna()) & (label_first_occurred_date>othercancer_first_occurred_date)',\n",
    "        engine='python',\n",
    "    )\n",
    "    .eid.unique()\n",
    ")\n",
    "print(\n",
    "    f'Number of participants who developed other cancer prior to CRC: {len(othercancer_pre_crc)}'\n",
    ")\n",
    "survival_df = survival_df.loc[~survival_df.eid.isin(othercancer_pre_crc), :]\n",
    "othercancer_with_crc = (\n",
    "    pd.merge(df_merged[['eid']], df_label, on='eid', how='left')\n",
    "    .query(\n",
    "        '(label_first_occurred_date.notna()) & (othercancer_first_occurred_date.notna()) & (label_first_occurred_date==othercancer_first_occurred_date)',\n",
    "        engine='python',\n",
    "    )\n",
    "    .eid.unique()\n",
    ")\n",
    "print(\n",
    "    f'Number of participants who developed other cancer same time as CRC: {len(othercancer_with_crc)}'\n",
    ")\n",
    "survival_df = survival_df.loc[~survival_df.eid.isin(othercancer_with_crc), :]\n",
    "cancer_prevalent = survival_df[(survival_df['is_cancer-0'] == True)].eid\n",
    "print(f'Number of any cancer occurred before recruitment: {len(cancer_prevalent)}')\n",
    "survival_df = survival_df.loc[~survival_df.eid.isin(cancer_prevalent), :]\n",
    "print(f'Number of participants left: {len(survival_df.eid)}')\n",
    "survival_df.label_class.value_counts()"
   ]
  },
  {
   "cell_type": "code",
   "execution_count": null,
   "metadata": {},
   "outputs": [],
   "source": [
    "# Calculate survival as a factor of age of diagnosis\n",
    "\n",
    "survival_df[\n",
    "    ['date_lfu', 'date_death', 'label_first_occurred_date', 'visit_date-0']\n",
    "] = survival_df[\n",
    "    ['date_lfu', 'date_death', 'label_first_occurred_date', 'visit_date-0']\n",
    "].apply(\n",
    "    pd.to_datetime, errors='coerce'\n",
    ")\n",
    "censoring_date = pd.to_datetime('29-02-2020', format='%d-%m-%Y')\n",
    "survival_df[['event_', 'age_', 'obs_end_date']] = survival_df.apply(\n",
    "    compute_survival_time_with_age_for_label,\n",
    "    censoring_date=censoring_date,\n",
    "    result_type='expand',\n",
    "    axis=1,\n",
    ")\n",
    "print(survival_df.shape)\n",
    "nonbaseline_cols = [\n",
    "    col for col in survival_df.columns if col.endswith(('-1', '-2', '-3'))\n",
    "]\n",
    "survival_df.drop(nonbaseline_cols, axis='columns', inplace=True)\n",
    "survival_df.rename(columns=lambda x: x.split('-')[0], inplace=True)\n",
    "print(survival_df.shape)"
   ]
  },
  {
   "cell_type": "code",
   "execution_count": null,
   "metadata": {},
   "outputs": [],
   "source": [
    "# Recode categorical variables\n",
    "\n",
    "survival_df['fasted'] = survival_df['fasted'].astype(float)\n",
    "survival_df['ethnicity'] = survival_df['ethnicity'].apply(\n",
    "    lambda x: 'unk' if pd.isnull(x) == True else ('white' if x == 1 else 'nonwhite')\n",
    ")\n",
    "survival_df['met_mins'] = (\n",
    "    pd.qcut(survival_df.loc[:, 'met_mins'], q=5, labels=range(1, 6))\n",
    "    .values.add_categories('unk')\n",
    "    .fillna('unk')\n",
    ")\n",
    "\n",
    "survival_df.replace(\n",
    "    {\n",
    "        'redmeat_intake': {np.nan: 'unk'},\n",
    "        'oily_fish_intake': {np.nan: 'unk'},\n",
    "        'famhist_cancer': {np.nan: 'unk'},\n",
    "        'edu_university': {np.nan: 'unk'},\n",
    "        'regular_aspirin': {np.nan: 'unk'},\n",
    "        'crc_screening': {np.nan: 'unk'},\n",
    "        'health_rating': {np.nan: 'unk'},\n",
    "        'alcohol': {np.nan: 'unk'},\n",
    "        'smoke': {np.nan: 'unk'},\n",
    "        'diseasehist_ibd': {np.nan: 'unk'},\n",
    "        'diseasehist_diabetes': {np.nan: 'unk'},\n",
    "        'diseasehist_cardiovascular': {np.nan: 'unk'},\n",
    "        'diseasehist_anyliverbiliary': {np.nan: 'unk'},\n",
    "    },\n",
    "    inplace=True,\n",
    ")\n",
    "\n",
    "survival_df['ethnicity'] = pd.Categorical(survival_df['ethnicity'], categories=['white', 'nonwhite', 'unk'])\n",
    "survival_df['redmeat_intake'] = pd.Categorical(survival_df['redmeat_intake'], categories=[0, 1, 2, 3, 4, 5, 'unk'])\n",
    "survival_df['oily_fish_intake'] = pd.Categorical(survival_df['oily_fish_intake'], categories=[0, 1, 2, 3, 4, 5, 'unk'])\n",
    "survival_df['famhist_cancer'] = pd.Categorical(survival_df['famhist_cancer'], categories=[False, True, 'unk'])\n",
    "survival_df['diseasehist_ibd'] = pd.Categorical(survival_df['diseasehist_ibd'], categories=[False, True, 'unk'])\n",
    "survival_df['diseasehist_cardiovascular'] = pd.Categorical(survival_df['diseasehist_cardiovascular'], categories=[False, True, 'unk'])\n",
    "survival_df['diseasehist_diabetes'] = pd.Categorical(survival_df['diseasehist_diabetes'], categories=[False, True, 'unk'])\n",
    "survival_df['diseasehist_anyliverbiliary'] = pd.Categorical(survival_df['diseasehist_anyliverbiliary'], categories=[False, True, 'unk'])\n",
    "survival_df['edu_university'] = pd.Categorical(survival_df['edu_university'], categories=[False, True, 'unk'])\n",
    "survival_df['regular_aspirin'] = pd.Categorical(survival_df['regular_aspirin'], categories=[False, True, 'unk'])\n",
    "survival_df['crc_screening'] = pd.Categorical(survival_df['crc_screening'], categories=[False, True, 'unk'])\n",
    "survival_df['health_rating'] = pd.Categorical(survival_df['health_rating'], categories=[4, 3, 2, 1, 'unk'])\n",
    "survival_df['alcohol'] = pd.Categorical(survival_df['alcohol'], categories=[0, 1, 2, 3, 4, 5, 6, 'unk'])\n",
    "survival_df['smoke'].replace(4, 'unk', inplace=True)\n",
    "survival_df['smoke'] = pd.Categorical(survival_df['smoke'], categories=[0, 1, 2, 3, 'unk'])\n",
    "survival_df['met_mins'] = pd.Categorical(survival_df['met_mins'], categories=[1, 2, 3, 4, 5, 'unk'])\n",
    "survival_df['regular_statin'] = pd.Categorical(survival_df['regular_statin'], categories=[False, True])\n",
    "survival_df['sex'] = pd.Categorical(survival_df['sex'], categories = [0,1])"
   ]
  },
  {
   "cell_type": "code",
   "execution_count": null,
   "metadata": {},
   "outputs": [],
   "source": [
    "# Select columns\n",
    "# Removed 'crc_screening', since highly correlated with label\n",
    "\n",
    "selected_cols = [\n",
    "    'age','sex','ethnicity','townsend','alcohol','smoke','fasted','redmeat_intake','oily_fish_intake',\n",
    "    'famhist_cancer','edu_university','regular_aspirin','regular_statin','health_rating','diseasehist_ibd',\n",
    "    'diseasehist_cardiovascular', 'diseasehist_diabetes','diseasehist_anyliverbiliary','met_mins','hgrip',\n",
    "    'tlr','whr','bmi','height','met_rate','impedance','sleep_dur','sbp','dbp','pulse','hgb','hct','wbc',\n",
    "    'rbc','plt','lym','mcv','mono','neut','eos','baso','n_rbc','reti','u_sodium','u_potas','u_cr','apoa',\n",
    "    'apob','chol','hdl','ldl','tgly','urea','crp','tprotein','glu','phos','alb','alp','alt','ast','ggt',\n",
    "    'urate','d_bil','t_bil','shbg','igf1','vitd','cysc','calc','hba1c','tst',\n",
    "]\n",
    "\n",
    "df = survival_df.loc[:,['event_', 'age_'] + [col for col in survival_df.columns if col.split('-')[0] in selected_cols]]"
   ]
  },
  {
   "cell_type": "code",
   "execution_count": null,
   "metadata": {},
   "outputs": [],
   "source": [
    "# Remove NaNs\n",
    "\n",
    "print(df.shape)\n",
    "print(f'Number of rows with missing values: {df.isna().any(axis=1).sum()}')\n",
    "df.isna().sum(axis=0).sort_values(ascending=False).head(20)\n",
    "df.dropna(inplace=True)\n",
    "print(df.shape)\n",
    "print(f'Number of rows with missing values: {df.isna().any(axis=1).sum()}')\n",
    "\n",
    "df.event_.value_counts().to_dict()"
   ]
  },
  {
   "cell_type": "code",
   "execution_count": null,
   "metadata": {},
   "outputs": [],
   "source": [
    "# Remove outliers based on percentiles\n",
    "\n",
    "continuous_vars = [\n",
    "    'hgrip','tlr','whr','height','met_rate','impedance','sleep_dur','sbp','dbp','pulse','bmi','hgb','hct',\n",
    "    'wbc','rbc','plt','lym','mcv','mono','neut','eos','baso','n_rbc','reti','u_sodium','u_potas','u_cr',\n",
    "    'apoa','apob','chol','hdl','ldl','tgly','urea','crp','tprotein','glu','phos','alb','alp','alt','ast',\n",
    "    'ggt','urate','d_bil','t_bil','shbg','igf1','vitd','cysc','calc','hba1c','tst',\n",
    "]\n",
    "outliers = []\n",
    "for i, col in enumerate(continuous_vars):\n",
    "    outliers_ = detect_outliers(\n",
    "        df, col, method='percentile', percentile_threshold=0.001\n",
    "    )\n",
    "    outliers += list(outliers_)\n",
    "\n",
    "outliers = np.unique(outliers)\n",
    "print(f'Number of outliers: {len(outliers)}')\n",
    "\n",
    "df.drop(outliers, axis='index', inplace=True)\n",
    "print(df.shape)"
   ]
  },
  {
   "cell_type": "code",
   "execution_count": null,
   "metadata": {},
   "outputs": [],
   "source": [
    "df.event_.value_counts().to_dict()"
   ]
  },
  {
   "cell_type": "code",
   "execution_count": null,
   "metadata": {},
   "outputs": [],
   "source": [
    "df.to_csv(s3_path + 'file3.csv', index=False)"
   ]
  },
  {
   "cell_type": "markdown",
   "metadata": {},
   "source": [
    "### Forward feature selection"
   ]
  },
  {
   "cell_type": "markdown",
   "metadata": {},
   "source": [
    "Fitting each variable separately on the training dataset, and selecting variables that have a p-value<0.10 (more liberal threshold)"
   ]
  },
  {
   "cell_type": "code",
   "execution_count": null,
   "metadata": {},
   "outputs": [],
   "source": [
    "X_train, X_test = train_test_split(\n",
    "    df, test_size=0.2, random_state=1, stratify=df['event_']\n",
    ")\n",
    "\n",
    "cph = CoxPHFitter()\n",
    "cols = df.drop(['event_', 'age_'], axis=1).columns.to_list()\n",
    "\n",
    "mdl_name = []\n",
    "var_keep = []\n",
    "c_idx = []\n",
    "aic = []\n",
    "p_val = []\n",
    "var_hr = []\n",
    "var_se = []\n",
    "var_pval = []"
   ]
  },
  {
   "cell_type": "code",
   "execution_count": null,
   "metadata": {},
   "outputs": [],
   "source": [
    "for c in cols:\n",
    "    cph.fit(\n",
    "        X_train, duration_col='age_', event_col='event_', formula=c, show_progress=False\n",
    "    )\n",
    "    mdl_name.append(c)\n",
    "    c_idx.append(round(cph.concordance_index_, 4))\n",
    "    aic.append(round(cph.AIC_partial_, 2))\n",
    "    summary = cph.summary['p'].to_dict()\n",
    "    p_val.append(round(min(list(summary.values())), 3))\n",
    "    print('Model:', c, 'C-index:', c_idx[-1], 'AIC:', aic[-1], 'p:', p_val[-1])\n",
    "    if p_val[-1] < 0.1:\n",
    "        var_keep.append(c)\n",
    "        var_hr.append(cph.summary['coef'][0])\n",
    "        var_se.append(1.96 * (cph.summary['se(coef)'][0]))\n",
    "        var_pval.append(p_val[-1])"
   ]
  },
  {
   "cell_type": "code",
   "execution_count": null,
   "metadata": {},
   "outputs": [],
   "source": [
    "# Get univariate parameters for the plots\n",
    "\n",
    "var_keep = [v for _, v in sorted(zip(var_hr, var_keep))]  # put in descending order\n",
    "var_se = [v for _, v in sorted(zip(var_hr, var_se))]\n",
    "var_pval = [v for _, v in sorted(zip(var_hr, var_pval))]\n",
    "var_hr.sort()\n",
    "\n",
    "a = []\n",
    "for v in var_keep:\n",
    "    if '[' in v:\n",
    "        v = v[: v.index('[')]\n",
    "    a.append(v)\n",
    "var_keep = a\n",
    "var_names = [rename_mapping[v] for v in var_keep]"
   ]
  },
  {
   "cell_type": "code",
   "execution_count": null,
   "metadata": {},
   "outputs": [],
   "source": [
    "# Plot log(HR) of the selected features in univariate model\n",
    "\n",
    "theme = matplotlib.colors.LinearSegmentedColormap.from_list(\n",
    "    '', ['blue', 'gainsboro', 'red']\n",
    ")\n",
    "a = [theme(1.0 * i / len(var_keep)) for i in range(len(var_keep))]\n",
    "a = [list(i[:3]) for i in a]\n",
    "\n",
    "fig, ax = plt.subplots(figsize=(2.5, 10))\n",
    "for i in range(len(var_hr)):\n",
    "    plt.plot([var_hr[i] - var_se[i], var_hr[i] + var_se[i]], [i, i], color=a[i])\n",
    "ax.set_yticks(np.arange(len(var_hr)))\n",
    "ax.set_yticklabels(var_keep)\n",
    "plt.xlabel('log(HR) 95% CI')\n",
    "plt.axvline(x=0, color='silver', linestyle='--')\n",
    "plt.scatter(var_hr, range(len(var_hr)), s=60, c=a)\n",
    "ax.set_yticklabels(var_names)\n",
    "plt.savefig('./figures/paper_all_hazard_ratios.jpg', dpi=400, bbox_inches='tight')\n",
    "plt.show()"
   ]
  },
  {
   "cell_type": "code",
   "execution_count": null,
   "metadata": {},
   "outputs": [],
   "source": [
    "var_keep = var_keep + ['event_', 'age_']\n",
    "X_train = X_train[var_keep].copy(deep=True)\n",
    "X_test = X_test[var_keep].copy(deep=True)"
   ]
  },
  {
   "cell_type": "markdown",
   "metadata": {},
   "source": [
    "### VIF - Remove correlated features"
   ]
  },
  {
   "cell_type": "markdown",
   "metadata": {},
   "source": [
    "Find and remove variables correlated with each other, to reduce multicollinearity, and clarify the contribution of each predictor to the model based on variance inflation factor >10."
   ]
  },
  {
   "cell_type": "code",
   "execution_count": null,
   "metadata": {},
   "outputs": [],
   "source": [
    "df = X_train.copy(deep=True)\n",
    "df.replace('unk', np.NaN, inplace=True)\n",
    "df.replace(['False', 'True'], [0, 1], inplace=True)\n",
    "\n",
    "for c in df:\n",
    "    df[c] = df[c].astype(float)\n",
    "df.dropna(inplace=True)"
   ]
  },
  {
   "cell_type": "markdown",
   "metadata": {},
   "source": [
    "RBC correlated with HCT, TBIL with DBIL, HDL with APOA, sex with TST, MET_RATE, height and impedance."
   ]
  },
  {
   "cell_type": "code",
   "execution_count": null,
   "metadata": {},
   "outputs": [],
   "source": [
    "# Calculate VIF\n",
    "\n",
    "cols = [\n",
    "    'calc','cysc','redmeat_intake','hdl','regular_aspirin','urea','age','oily_fish_intake','chol',\n",
    "    'lym','shbg','vitd','u_cr','urate','u_potas','u_sodium','ggt','alt','dbp','pulse','crp','t_bil',\n",
    "    'igf1','bmi','hgrip','mono','wbc','met_mins','baso','hgb','tgly','smoke','health_rating','reti',\n",
    "    'famhist_cancer','alcohol','rbc','fasted','sex','tlr','whr',\n",
    "]\n",
    "var_keep = cols\n",
    "\n",
    "vif_df = pd.DataFrame()\n",
    "vif_df['variable'] = df[cols].columns\n",
    "\n",
    "X = df[cols].copy(deep=True)\n",
    "X['intercept'] = 1\n",
    "vif = [variance_inflation_factor(X.values, i) for i in range(X.shape[1])]\n",
    "vif_df['vif'] = vif[:-1]\n",
    "vif_df.sort_values(by='vif', ascending=False)[:15]"
   ]
  },
  {
   "cell_type": "code",
   "execution_count": null,
   "metadata": {},
   "outputs": [],
   "source": [
    "# Plot dendrogram\n",
    "\n",
    "cols = df.drop(['age_', 'event_'], axis=1).columns\n",
    "col_names = [rename_mapping[c] for c in cols]\n",
    "\n",
    "set_link_color_palette(\n",
    "    [\n",
    "        'darkmagenta',\n",
    "        'navy',\n",
    "        'royalblue',\n",
    "        'lightseagreen',\n",
    "        'limegreen',\n",
    "        'gold',\n",
    "        'darkorange',\n",
    "        'orangered',\n",
    "        'crimson',\n",
    "    ]\n",
    ")  \n",
    "corrs = df.drop(['age_', 'event_'], axis=1).corr()\n",
    "plt.figure(figsize=(2, 10))\n",
    "plt.xlabel('Ward distance', fontsize=11)\n",
    "dissimilarity = 1 - abs(corrs)\n",
    "Z = linkage(squareform(dissimilarity), 'ward')\n",
    "\n",
    "R1 = dendrogram(\n",
    "    Z,\n",
    "    labels=cols,\n",
    "    orientation='left',\n",
    "    color_threshold=1.1,\n",
    "    leaf_font_size=10,\n",
    "    count_sort='ascending',\n",
    "    above_threshold_color='silver',\n",
    ")\n",
    "# leaf_rotation=90, distance_sort='descending',);\n",
    "R = dendrogram(\n",
    "    Z,\n",
    "    labels=col_names,\n",
    "    orientation='left',\n",
    "    color_threshold=1.1,\n",
    "    leaf_font_size=10,\n",
    "    count_sort='ascending',\n",
    "    above_threshold_color='silver',\n",
    ")  # distance_sort='descending',\n",
    "\n",
    "plt.savefig('./figures/paper_dendrogram.jpg', dpi=400, bbox_inches='tight')\n",
    "plt.show()"
   ]
  },
  {
   "cell_type": "code",
   "execution_count": null,
   "metadata": {},
   "outputs": [],
   "source": [
    "# Plot r-map in the leaf order of the dendrogram\n",
    "\n",
    "new_order = R1['ivl']\n",
    "new_order.reverse()\n",
    "col_names = [rename_mapping[c] for c in new_order]\n",
    "\n",
    "corrs = df[new_order].corr()\n",
    "pval = df[new_order].corr(method=lambda x, y: sp.pearsonr(x, y)[1]) - np.eye(\n",
    "    *corrs.shape\n",
    ")\n",
    "\n",
    "mask = np.triu(np.ones_like(corrs, dtype=bool))\n",
    "plt.figure(figsize=(14, 14))\n",
    "sns.heatmap(\n",
    "    corrs,\n",
    "    annot=False,\n",
    "    annot_kws={'size': 9},\n",
    "    fmt='.2f',\n",
    "    mask=mask,\n",
    "    xticklabels=col_names,\n",
    "    yticklabels=col_names,\n",
    "    square=True,\n",
    "    cbar_kws={'shrink': 0.5},\n",
    "    cmap='bwr',\n",
    "    vmin=-0.6,\n",
    "    vmax=0.6,\n",
    ").set(title='Intercorrelations - rmap')\n",
    "\n",
    "plt.savefig('./figures/paper_rmap.jpg', dpi=150, bbox_inches='tight')\n",
    "plt.show()"
   ]
  },
  {
   "cell_type": "code",
   "execution_count": null,
   "metadata": {},
   "outputs": [],
   "source": [
    "var_keep = var_keep + ['event_', 'age_']\n",
    "X_train = X_train[var_keep].copy(deep=True)\n",
    "X_test = X_test[var_keep].copy(deep=True)"
   ]
  },
  {
   "cell_type": "markdown",
   "metadata": {},
   "source": [
    "### Backward elimination"
   ]
  },
  {
   "cell_type": "markdown",
   "metadata": {},
   "source": [
    "Start by fitting the all of the selected features, and remove features that don't significantly contribute to the model using p > 0.05, starting with the lowest significance in an ascending order."
   ]
  },
  {
   "cell_type": "code",
   "execution_count": null,
   "metadata": {},
   "outputs": [],
   "source": [
    "df = X_train.copy(deep=True)"
   ]
  },
  {
   "cell_type": "code",
   "execution_count": null,
   "metadata": {},
   "outputs": [],
   "source": [
    "# Initiate\n",
    "\n",
    "cols = df.drop(\n",
    "    ['event_', 'age_'], axis=1\n",
    ").columns  # all features from the forward feature selection step\n",
    "mdl_cols = cols.to_list()\n",
    "mdl_formula = ' + '.join(mdl_cols)\n",
    "\n",
    "cph = CoxPHFitter()\n",
    "cph.fit(\n",
    "    df,\n",
    "    duration_col='age_',\n",
    "    event_col='event_',\n",
    "    formula=mdl_formula,\n",
    "    show_progress=False,\n",
    ")\n",
    "print('Model:', mdl_formula)\n",
    "print(\n",
    "    '-- C-index:', round(cph.concordance_index_, 6), 'AIC:', round(cph.AIC_partial_, 2)\n",
    ")\n",
    "\n",
    "summary = cph.summary['p'].to_dict()\n",
    "mdl_vars = list(summary.keys())\n",
    "mdl_pvals = np.array(list(summary.values()))\n",
    "\n",
    "vnames = []\n",
    "min_p = []\n",
    "for v in mdl_vars:  # get the minimum p-value of each variable\n",
    "    if '[' in v:\n",
    "        i = v.index('[')\n",
    "        vname = v[:i]\n",
    "    else:\n",
    "        vname = v\n",
    "    vnames.append(vname)\n",
    "    idx = [mdl_vars.index(i) for i in mdl_vars if i.startswith(vname)]\n",
    "    min_p.append(np.min(mdl_pvals[idx]))\n",
    "\n",
    "while (\n",
    "    np.max(min_p) > 0.0499\n",
    "):  # whilst there are non-significant variables not accepting marginal effects\n",
    "\n",
    "    idx = np.argmax(min_p)\n",
    "    mdl_cols.remove(\n",
    "        vnames[idx]\n",
    "    )  # remove that variable from the list and rerun the model\n",
    "    print('Removing', vnames[idx])\n",
    "\n",
    "    mdl_formula = ' + '.join(mdl_cols)\n",
    "\n",
    "    cph.fit(\n",
    "        df,\n",
    "        duration_col='age_',\n",
    "        event_col='event_',\n",
    "        formula=mdl_formula,\n",
    "        show_progress=False,\n",
    "    )\n",
    "    print('Model:', mdl_formula)\n",
    "    print(\n",
    "        '-- C-index:',\n",
    "        round(cph.concordance_index_, 6),\n",
    "        'AIC:',\n",
    "        round(cph.AIC_partial_, 2),\n",
    "    )\n",
    "    summary = cph.summary['p'].to_dict()\n",
    "    mdl_vars = list(summary.keys())\n",
    "    mdl_pvals = np.array(list(summary.values()))\n",
    "\n",
    "    vnames = []\n",
    "    min_p = []\n",
    "    for v in mdl_vars:\n",
    "        if '[' in v:\n",
    "            i = v.index('[')\n",
    "            vname = v[:i]\n",
    "        else:\n",
    "            vname = v\n",
    "        vnames.append(vname)\n",
    "        idx = [mdl_vars.index(i) for i in mdl_vars if i.startswith(vname)]\n",
    "        min_p.append(np.min(mdl_pvals[idx]))"
   ]
  },
  {
   "cell_type": "code",
   "execution_count": null,
   "metadata": {},
   "outputs": [],
   "source": [
    "cph.print_summary(decimals=4)"
   ]
  },
  {
   "cell_type": "code",
   "execution_count": null,
   "metadata": {},
   "outputs": [],
   "source": [
    "# Calculate unadjusted HRs for comparison against the multivariate model\n",
    "\n",
    "cindex = []\n",
    "aic = []\n",
    "hr = []\n",
    "ci_lower = []\n",
    "ci_upper = []\n",
    "pval = []\n",
    "vname = []\n",
    "\n",
    "for c in mdl_cols:\n",
    "    cph = CoxPHFitter()\n",
    "    cph.fit(X_train, duration_col='age_', event_col='event_', formula=c, show_progress=False)\n",
    "    varnames = list((cph.summary['p'].to_dict()).keys())\n",
    "    for i in range(len(cph.summary['p'])):\n",
    "        hr.append(round(cph.summary['exp(coef)'][i],2))\n",
    "        ci_lower.append(round(cph.summary['exp(coef) lower 95%'][i],2))\n",
    "        ci_upper.append(round(cph.summary['exp(coef) upper 95%'][i],2))\n",
    "        pval.append(round(cph.summary['p'][i],5))\n",
    "        vname.append(varnames[i])\n",
    "        cindex.append(round(cph.concordance_index_,3))\n",
    "        aic.append(round(cph.AIC_partial_,2))\n",
    "    \n",
    "univariate_df = pd.DataFrame()\n",
    "univariate_df = univariate_df.assign(Covariate=vname, HR=hr, CI_lower=ci_lower, CI_upper=ci_upper, AIC=aic, C_index=cindex, p=pval)\n",
    "univariate_df"
   ]
  },
  {
   "cell_type": "code",
   "execution_count": null,
   "metadata": {},
   "outputs": [],
   "source": [
    "# Test performance on the test set\n",
    "\n",
    "cph = CoxPHFitter()\n",
    "cph.fit(\n",
    "    X_test,\n",
    "    duration_col='age_',\n",
    "    event_col='event_',\n",
    "    formula=' + '.join(mdl_cols),\n",
    "    show_progress=False,\n",
    ")\n",
    "print(\n",
    "    '-- C-index:', round(cph.concordance_index_, 6), 'AIC:', round(cph.AIC_partial_, 2)\n",
    ")"
   ]
  },
  {
   "cell_type": "code",
   "execution_count": null,
   "metadata": {},
   "outputs": [],
   "source": [
    "mdl_cols = mdl_cols + ['event_', 'age_']\n",
    "X_train = X_train[mdl_cols].copy(deep=True)\n",
    "X_test = X_test[mdl_cols].copy(deep=True)"
   ]
  },
  {
   "cell_type": "markdown",
   "metadata": {},
   "source": [
    "### Plot results"
   ]
  },
  {
   "cell_type": "code",
   "execution_count": null,
   "metadata": {},
   "outputs": [],
   "source": [
    "df = X_train.copy(deep=True)\n",
    "\n",
    "cph = CoxPHFitter()\n",
    "cols = df.drop(['event_', 'age_'], axis=1).columns\n",
    "mdl_cols = cols.to_list()\n",
    "\n",
    "cph.fit(\n",
    "    df,\n",
    "    duration_col='age_',\n",
    "    event_col='event_',\n",
    "    formula=' + '.join(mdl_cols),\n",
    "    show_progress=False,\n",
    ")  # entry_col='age',\n",
    "summary = cph.summary['p'].to_dict()\n",
    "mdl_vars = list(summary.keys())\n",
    "mdl_pvals = np.array(list(summary.values()))"
   ]
  },
  {
   "cell_type": "code",
   "execution_count": null,
   "metadata": {},
   "outputs": [],
   "source": [
    "cph.print_summary(decimals=3)"
   ]
  },
  {
   "cell_type": "code",
   "execution_count": null,
   "metadata": {},
   "outputs": [],
   "source": [
    "# Default plot from lifelines log(HR) plot\n",
    "\n",
    "plt.figure(figsize=(5, 5))\n",
    "ax = cph.plot()  # hazard_ratios=True\n",
    "plt.show()"
   ]
  },
  {
   "cell_type": "code",
   "execution_count": null,
   "metadata": {},
   "outputs": [],
   "source": [
    "# HR plot\n",
    "\n",
    "plt.figure(figsize=(5, 5))\n",
    "ax = cph.plot(hazard_ratios=True)\n",
    "plt.show()"
   ]
  },
  {
   "cell_type": "code",
   "execution_count": null,
   "metadata": {},
   "outputs": [],
   "source": [
    "# Get stats for the plots\n",
    "\n",
    "hr = cph.summary['coef'].to_dict()  # get values to plot\n",
    "mdl_vars = list(hr.keys())\n",
    "hr = cph.summary['coef']\n",
    "se = cph.summary['se(coef)']\n",
    "pval = cph.summary['p']\n",
    "\n",
    "idx = [\n",
    "    i for i in range(len(pval)) if pval[i] < 0.05 and 'T.unk' not in mdl_vars[i]\n",
    "]  # threshold by p\n",
    "pval = [pval[i] for i in idx]\n",
    "hr = [hr[i] for i in idx]\n",
    "se = np.array([1.96 * se[i] for i in idx])\n",
    "mdl_vars = [mdl_vars[i] for i in idx]\n",
    "\n",
    "mdl_vars = [v for _, v in sorted(zip(hr, mdl_vars))]  # put in descending order\n",
    "se = [v for _, v in sorted(zip(hr, se))]\n",
    "pval = [v for _, v in sorted(zip(hr, pval))]\n",
    "hr.sort()\n",
    "\n",
    "a = []\n",
    "for v in mdl_vars:\n",
    "    if '[' in v:\n",
    "        v = v[: v.index('[')]\n",
    "    a.append(v)\n",
    "mdl_vars = a\n",
    "var_names = [rename_mapping[v] for v in mdl_vars]"
   ]
  },
  {
   "cell_type": "code",
   "execution_count": null,
   "metadata": {},
   "outputs": [],
   "source": [
    "var_names = [\n",
    "    'Age',\n",
    "    'Urea',\n",
    "    'Cholesterol',\n",
    "    'ALT',\n",
    "    'SHBG',\n",
    "    'Pulse',\n",
    "    'Triglycerides',\n",
    "    'Basophil %',\n",
    "    'Family history of cancer',\n",
    "    'Sex',\n",
    "    'Alcohol intake 1-3 u/pm',\n",
    "    'Alcohol intake 3-4 u/pw',\n",
    "    'Alcohol intake 5-7 u/pw',\n",
    "    'Waist-to-hip ratio',\n",
    "]"
   ]
  },
  {
   "cell_type": "code",
   "execution_count": null,
   "metadata": {},
   "outputs": [],
   "source": [
    "# Plot using a risk gradient\n",
    "\n",
    "theme = matplotlib.colors.LinearSegmentedColormap.from_list(\n",
    "    '', ['blue', 'gainsboro', 'red']\n",
    ")\n",
    "a = [theme(1.0 * i / len(mdl_vars)) for i in range(len(mdl_vars))]\n",
    "a = [list(i[:3]) for i in a]\n",
    "\n",
    "fig, ax = plt.subplots(figsize=(5, 5))\n",
    "for i in range(len(hr)):\n",
    "    plt.plot([hr[i] - se[i], hr[i] + se[i]], [i, i], color=a[i])\n",
    "ax.set_yticks(np.arange(len(hr)))\n",
    "ax.set_yticklabels(mdl_vars)\n",
    "plt.xlabel('log(HR) 95% CI', fontsize=13)\n",
    "plt.axvline(x=0, color='silver', linestyle='--')\n",
    "plt.scatter(hr, range(len(hr)), s=60, c=a)\n",
    "ax.set_yticklabels(var_names, fontsize=13)\n",
    "plt.xticks(fontsize=13)\n",
    "plt.savefig('./figures/paper_hrplot.jpg', dpi=300, bbox_inches='tight')\n",
    "plt.show()"
   ]
  },
  {
   "cell_type": "code",
   "execution_count": null,
   "metadata": {},
   "outputs": [],
   "source": [
    "# Changing categories in string format to integers (e.g. '2' to 2)\n",
    "\n",
    "df.replace(\n",
    "    ['False', 'True', '0', '1', '2', '3', '4', '5', '6', 'unk'],\n",
    "    [0, 1, 0, 1, 2, 3, 4, 5, 6, 9],\n",
    "    inplace=True,\n",
    ")\n",
    "df['famhist_cancer'] = pd.Categorical(df['famhist_cancer'], categories=[0, 1, 9])\n",
    "df['alcohol'] = pd.Categorical(df['alcohol'], categories=[0, 1, 2, 3, 4, 5, 6, 9])"
   ]
  },
  {
   "cell_type": "code",
   "execution_count": null,
   "metadata": {},
   "outputs": [],
   "source": [
    "# Partial covariate survival plots\n",
    "\n",
    "theme = matplotlib.colors.LinearSegmentedColormap.from_list(\n",
    "    '', ['blue', 'gainsboro', 'red']\n",
    ")\n",
    "cph = CoxPHFitter()\n",
    "cph.fit(df, duration_col='age_', event_col='event_', show_progress=False)\n",
    "\n",
    "ax = cph.plot_partial_effects_on_outcome(\n",
    "    covariates=['whr'],\n",
    "    values=[0.6, 0.7, 0.8, 0.9, 1, 1.1, 1.2],\n",
    "    cmap=theme,\n",
    "    plot_baseline=False,\n",
    "    figsize=(2.5, 5),\n",
    ")\n",
    "plt.xlim([60, 85])\n",
    "plt.ylim([0.8, 1])\n",
    "plt.ylabel('% Healthy', fontsize=13)\n",
    "plt.xlabel('Age of diagnosis', fontsize=12)\n",
    "plt.title('Waist-to-hip ratio')\n",
    "ax.get_legend().remove()\n",
    "plt.xticks(fontsize=11)\n",
    "plt.yticks([0.80, 0.85, 0.90, 0.95, 1.00], fontsize=11)\n",
    "plt.savefig('./figures/paper_survival_waist_to_hip.jpg', dpi=300, bbox_inches='tight')\n",
    "plt.show()"
   ]
  },
  {
   "cell_type": "code",
   "execution_count": null,
   "metadata": {},
   "outputs": [],
   "source": [
    "plt.figure(figsize=(5, 5))\n",
    "ax = cph.plot_partial_effects_on_outcome(\n",
    "    covariates=['alcohol'],\n",
    "    values=[0, 1, 2, 3, 4, 5, 6],\n",
    "    cmap=theme,\n",
    "    plot_baseline=False,\n",
    "    figsize=(2.5, 5),\n",
    ")\n",
    "plt.xlim([60, 85])\n",
    "plt.ylim([0.8, 1])\n",
    "plt.ylabel('% Healthy', fontsize=13)\n",
    "plt.xlabel('Age of diagnosis', fontsize=12)\n",
    "plt.title('Alcohol intake')\n",
    "ax.get_legend().remove()\n",
    "plt.xticks(fontsize=11)\n",
    "plt.yticks([0.80, 0.85, 0.90, 0.95, 1.00], fontsize=11)\n",
    "plt.savefig('./figures/paper_survival_alcohol.jpg', dpi=300, bbox_inches='tight')\n",
    "plt.show()"
   ]
  },
  {
   "cell_type": "code",
   "execution_count": null,
   "metadata": {},
   "outputs": [],
   "source": [
    "plt.figure(figsize=(5, 5))\n",
    "ax = cph.plot_partial_effects_on_outcome(\n",
    "    covariates=['sex'], values=[0, 1], cmap=theme, plot_baseline=False, figsize=(2.5, 5)\n",
    ")\n",
    "plt.xlim([60, 85])\n",
    "plt.ylim([0.8, 1])\n",
    "plt.ylabel('% Healthy', fontsize=13)\n",
    "plt.xlabel('Age of diagnosis', fontsize=12)\n",
    "plt.title('Sex')\n",
    "ax.get_legend().remove()\n",
    "plt.xticks(fontsize=11)\n",
    "plt.yticks([0.80, 0.85, 0.90, 0.95, 1.00], fontsize=11)\n",
    "plt.savefig('./figures/paper_survival_sex.jpg', dpi=300, bbox_inches='tight')\n",
    "plt.show()"
   ]
  }
 ],
 "metadata": {
  "instance_type": "ml.m5.2xlarge",
  "kernelspec": {
   "display_name": "Python 3.9.13 64-bit",
   "language": "python",
   "name": "python3"
  },
  "language_info": {
   "codemirror_mode": {
    "name": "ipython",
    "version": 3
   },
   "file_extension": ".py",
   "mimetype": "text/x-python",
   "name": "python",
   "nbconvert_exporter": "python",
   "pygments_lexer": "ipython3",
   "version": "3.9.13"
  },
  "vscode": {
   "interpreter": {
    "hash": "b0fa6594d8f4cbf19f97940f81e996739fb7646882a419484c72d19e05852a7e"
   }
  }
 },
 "nbformat": 4,
 "nbformat_minor": 4
}
