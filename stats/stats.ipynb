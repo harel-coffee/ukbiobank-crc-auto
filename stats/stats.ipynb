{
 "cells": [
  {
   "cell_type": "markdown",
   "metadata": {},
   "source": [
    "# Stats and visualisation for UKB data"
   ]
  },
  {
   "cell_type": "markdown",
   "metadata": {},
   "source": [
    "### Environment setup"
   ]
  },
  {
   "cell_type": "code",
   "execution_count": null,
   "metadata": {},
   "outputs": [],
   "source": [
    "import pandas as pd\n",
    "import numpy as np\n",
    "import plotly.express as px\n",
    "import matplotlib.pyplot as plt\n",
    "import seaborn as sns\n",
    "import math, boto3, tempfile\n",
    "import scipy.stats as sp\n",
    "from sklearn import manifold\n",
    "from sklearn.preprocessing import minmax_scale\n",
    "from utils import *\n",
    "from label_utils import *\n",
    "import statsmodels as sm\n",
    "from math import sqrt\n",
    "from ukb_cox_proportional_hazards_utils import compute_is_cancer_at_recruitment\n",
    "from outlier_methods import detect_outliers\n",
    "from statsmodels.stats.multitest import fdrcorrection\n",
    "import json"
   ]
  },
  {
   "cell_type": "code",
   "execution_count": null,
   "metadata": {},
   "outputs": [],
   "source": [
    "# Cleaner variable names\n",
    "\n",
    "with open('ukb_feature_rename_map.json', 'r') as f:\n",
    "    rename_mapping = json.load(f)"
   ]
  },
  {
   "cell_type": "markdown",
   "metadata": {},
   "source": [
    "### Prepare data"
   ]
  },
  {
   "cell_type": "code",
   "execution_count": null,
   "metadata": {},
   "outputs": [],
   "source": [
    "df = read_csv('s3://file_path/file1.csv')\n",
    "df_col = pd.read_csv('s3://file_path/additional_data/file2.csv')\n",
    "df_col['200-0.0'] = df['200-0.0']\n",
    "df_col['190-0.0'] = df['190-0.0']\n",
    "df_col = remove_not_consented_participants(df_col)\n",
    "df_col = remove_consent_withdrawals(df_col)\n",
    "df_add = df_col[['845-0.0', '6138-0.0', '2306-0.0']].copy(deep=True)\n",
    "\n",
    "df_add.rename(\n",
    "    columns={'845-0.0': 'yoe', '6138-0.0': 'edu_level', '2306-0.0': 'weight_change'},\n",
    "    inplace=True,\n",
    ")\n",
    "df_add['edu_level'] = df_add['edu_level'].replace([-3, -7], np.NaN)\n",
    "df_add['weight_change'] = df_add['weight_change'].replace([-1, -3], np.NaN)\n",
    "df_add['weight_change'] = df_add['weight_change'].replace([0, 2, 3], [2, 3, 1])\n",
    "df_add['yoe'] = df_add['yoe'].replace([-1, -3, -2], [np.NaN, np.NaN, 0])"
   ]
  },
  {
   "cell_type": "code",
   "execution_count": null,
   "metadata": {},
   "outputs": [],
   "source": [
    "# Get rest of the data\n",
    "\n",
    "df_merged = pd.read_csv('s3://file_path/file3.csv', low_memory=False)\n",
    "df_merged['is_cancer-0'] = df_merged.apply(compute_is_cancer_at_recruitment, axis=1)\n",
    "df_label = pd.read_csv('s3://file_path/file4.csv')\n",
    "df_merged.label_class.value_counts()"
   ]
  },
  {
   "cell_type": "code",
   "execution_count": null,
   "metadata": {},
   "outputs": [],
   "source": [
    "df_merged[['edu_level', 'weight_change', 'yoe']] = df_add[\n",
    "    ['edu_level', 'weight_change', 'yoe']\n",
    "]\n",
    "df_merged.shape"
   ]
  },
  {
   "cell_type": "code",
   "execution_count": null,
   "metadata": {},
   "outputs": [],
   "source": [
    "# Remove incident and other primary cancers\n",
    "\n",
    "incident_cancer = df_merged[(df_merged['label_class'] == 2)].eid\n",
    "print('Number of participants with incident cancer', len(incident_cancer))\n",
    "df_merged = df_merged.loc[~df_merged.eid.isin(incident_cancer), :]\n",
    "other_cancer = df_merged[(df_merged['label_class'] == 3)].eid\n",
    "print('Number of participants with other primary cancers', len(other_cancer))\n",
    "df_merged = df_merged.loc[~df_merged.eid.isin(other_cancer), :]\n",
    "df_merged.label_class.value_counts()"
   ]
  },
  {
   "cell_type": "code",
   "execution_count": null,
   "metadata": {},
   "outputs": [],
   "source": [
    "# Remove non-baseline columns\n",
    "\n",
    "nonbaseline_cols = [\n",
    "    col for col in df_merged.columns if col.endswith(('-1', '-2', '-3'))\n",
    "]\n",
    "df_merged.drop(nonbaseline_cols, axis='columns', inplace=True)\n",
    "df_merged.rename(columns=lambda x: x.split('-')[0], inplace=True)\n",
    "print(df_merged.shape)"
   ]
  },
  {
   "cell_type": "code",
   "execution_count": null,
   "metadata": {},
   "outputs": [],
   "source": [
    "# Select columns\n",
    "\n",
    "selected_cols = [\n",
    "    'age', 'visit_centre','sex','ethnicity','townsend','alcohol','smoke','fasted',\n",
    "    'redmeat_intake','oily_fish_intake','famhist_cancer','famhist_colorectal_cancer','edu_university',\n",
    "    'regular_aspirin','regular_statin','health_rating','diseasehist_ibd','diseasehist_cardiovascular',\n",
    "    'diseasehist_diabetes','diseasehist_anyliverbiliary','met_mins','hgrip','tlr','whr','bmi','height',\n",
    "    'met_rate','impedance','sleep_dur','sbp','dbp','pulse','hgb','hct','wbc','rbc','plt','lym','mcv',\n",
    "    'mono','neut','eos','baso','n_rbc','reti','u_sodium','u_potas', 'u_cr','apoa','apob','chol', 'hdl',\n",
    "    'ldl','tgly','urea','crp','tprotein','glu','phos', 'alb', 'alp','alt','ast','ggt','urate','d_bil',\n",
    "    't_bil','shbg','igf1', 'vitd','cysc','calc','hba1c','tst','edu_level','weight_change','yoe','crc_screening',\n",
    "    'n_cancer_occurred','cancer_first_occurred_age','label_first_occurred_age','label_tumour_behaviour',\n",
    "    'label_class',\n",
    "]\n",
    "\n",
    "df = df_merged.loc[:, [col for col in df_merged.columns if col in selected_cols]]"
   ]
  },
  {
   "cell_type": "code",
   "execution_count": null,
   "metadata": {},
   "outputs": [],
   "source": [
    "# Detect and remove outliers from continuous variables\n",
    "\n",
    "continuous_vars = [\n",
    "    'hgrip','tlr','whr','height','met_rate','impedance','sleep_dur','sbp','dbp','pulse','bmi','hgb',\n",
    "    'hct','wbc','rbc','plt','lym','mcv','mono','neut','eos','baso','n_rbc','reti','u_sodium','u_potas',\n",
    "    'u_cr','apoa','apob','chol','hdl','ldl','tgly','urea','crp','tprotein','glu','phos','alb','alp',\n",
    "    'alt','ast','ggt','urate','d_bil','t_bil','shbg','igf1','vitd','cysc','calc','hba1c','tst',\n",
    "]\n",
    "outliers = []\n",
    "for i, col in enumerate(continuous_vars):\n",
    "    outliers_ = detect_outliers(\n",
    "        df, col, method='percentile', percentile_threshold=0.001\n",
    "    )\n",
    "    outliers += list(outliers_)\n",
    "\n",
    "outliers = np.unique(outliers)\n",
    "print(f'Number of outliers: {len(outliers)}')\n",
    "\n",
    "df.drop(outliers, axis='index', inplace=True)\n",
    "df.replace({True: 1, False: 0}, inplace=True)\n",
    "print(df.shape)"
   ]
  },
  {
   "cell_type": "code",
   "execution_count": null,
   "metadata": {},
   "outputs": [],
   "source": [
    "df.label_class.value_counts()"
   ]
  },
  {
   "cell_type": "markdown",
   "metadata": {},
   "source": [
    "# X2 tests"
   ]
  },
  {
   "cell_type": "code",
   "execution_count": null,
   "metadata": {},
   "outputs": [],
   "source": [
    "# X2 tests for categorical measures\n",
    "\n",
    "perc_c = []\n",
    "perc_p = []\n",
    "chi_res = []\n",
    "pval = []\n",
    "\n",
    "c_idx = df['label_class'] == False\n",
    "p_idx = df['label_class'] == True\n",
    "c, p = df['label_class'].value_counts()\n",
    "\n",
    "cols = [\n",
    "    'sex','ethnicity','edu_level','visit_centre','weight_change','regular_aspirin','regular_statin',\n",
    "    'famhist_cancer','famhist_colorectal_cancer','diseasehist_cardiovascular','diseasehist_diabetes',\n",
    "    'diseasehist_ibd','diseasehist_anyliverbiliary','crc_screening','health_rating','redmeat_intake',\n",
    "    'oily_fish_intake','smoke','alcohol','fasted',\n",
    "]\n",
    "\n",
    "for col in cols:\n",
    "    codes = pd.unique(df[col])\n",
    "    codes = codes[~np.isnan(codes)]  # remove nan from codes\n",
    "    c_n = []\n",
    "    p_n = []\n",
    "    for i in codes:\n",
    "        c_n.append(len(df.loc[(df[col] == i) & (df['label_class'] == False)]))\n",
    "        p_n.append(len(df.loc[(df[col] == i) & (df['label_class'] == True)]))\n",
    "    if min(c_n) == 0:\n",
    "        ix = c_n.index(0)\n",
    "        c_n[ix] = 0.000001\n",
    "        p_n[ix] = 0.000001\n",
    "    if min(p_n) == 0:\n",
    "        ix = p_n.index(0)\n",
    "        p_n[ix] = 0.000001\n",
    "        c_n[ix] = 0.000001\n",
    "    perc_c.append(np.around(np.array(c_n) / np.sum(c_n) * 100, 1))\n",
    "    perc_p.append(np.around(np.array(p_n) / np.sum(p_n) * 100, 1))\n",
    "    chi, ps = sp.chisquare(\n",
    "        f_obs=np.array(c_n) / np.sum(c_n) * 100, f_exp=np.array(p_n) / np.sum(p_n) * 100\n",
    "    )\n",
    "    chi_res.append(round(chi, 3))\n",
    "    pval.append(round(ps, 3))"
   ]
  },
  {
   "cell_type": "code",
   "execution_count": null,
   "metadata": {},
   "outputs": [],
   "source": [
    "rej, pcor = fdrcorrection(pval, alpha=0.05, method='indep', is_sorted=False)\n",
    "stats_df = pd.DataFrame()\n",
    "stats_df = stats_df.assign(\n",
    "    biomarker=cols, perc_c=perc_c, perc_p=perc_p, chi2=chi_res, p=pval\n",
    ")\n",
    "stats_df['pcor'] = pcor\n",
    "stats_df.to_csv(s3_path + 'tables/chisquare_results.csv', index=False)\n",
    "stats_df"
   ]
  },
  {
   "cell_type": "markdown",
   "metadata": {},
   "source": [
    "# T-tests"
   ]
  },
  {
   "cell_type": "code",
   "execution_count": null,
   "metadata": {},
   "outputs": [],
   "source": [
    "df2 = df[\n",
    "    [\n",
    "        'townsend','bmi','wbc','rbc','hgb','hct','plt','lym','u_cr','u_potas','u_sodium','apoa',\n",
    "        'apob','urea','chol','crp','cysc','hdl','igf1','ldl','shbg','tst','tprotein','tgly',\n",
    "        'vitd','pulse','dbp','sbp','age','height','sleep_dur','met_mins','met_rate','impedance',\n",
    "        'mcv','mono','neut','eos','baso','n_rbc','reti','alb','alp','alt','ast','d_bil','calc',\n",
    "        'ggt','glu','hba1c','phos','t_bil','urate','hgrip','whr','tlr','yoe',\n",
    "    ]\n",
    "].copy(deep=True)\n",
    "\n",
    "c_idx = df['label_class'] == False\n",
    "p_idx = df['label_class'] == True"
   ]
  },
  {
   "cell_type": "code",
   "execution_count": null,
   "metadata": {},
   "outputs": [],
   "source": [
    "mean_c = []\n",
    "mean_p = []\n",
    "sd_c = []\n",
    "sd_p = []\n",
    "count_c = []\n",
    "count_p = []\n",
    "deg_f = []\n",
    "tval = []\n",
    "tval_abs = []\n",
    "t_pval = []\n",
    "\n",
    "for col in df2:\n",
    "    cc = df2[col][c_idx].count()\n",
    "    count_c.append(cc)\n",
    "    pc = df2[col][p_idx].count()\n",
    "    count_p.append(pc)\n",
    "    deg_f.append(cc + pc - 2)\n",
    "    mean_c.append(round(np.nanmean(df2[col][c_idx]), 2))\n",
    "    mean_p.append(round(np.nanmean(df2[col][p_idx]), 2))\n",
    "    sd_c.append(round(np.nanstd(df2[col][c_idx]), 2))\n",
    "    sd_p.append(round(np.nanstd(df2[col][p_idx]), 2))\n",
    "    res = sp.ttest_ind(\n",
    "        df2[col][c_idx], df2[col][p_idx], nan_policy='omit'\n",
    "    )  # Between samples t-tests\n",
    "    tval.append(round(res[0], 3))\n",
    "    tval_abs.append(round(np.abs(res[0]), 2))\n",
    "    t_pval.append(round(res[1], 6));"
   ]
  },
  {
   "cell_type": "code",
   "execution_count": null,
   "metadata": {},
   "outputs": [],
   "source": [
    "rej, pcor = fdrcorrection(t_pval, alpha=0.05, method='indep', is_sorted=False)\n",
    "pd.set_option('display.max_rows', None)\n",
    "stats_df = pd.DataFrame()\n",
    "stats_df = stats_df.assign(\n",
    "    biomarker=df2.columns,\n",
    "    count_c=count_c,\n",
    "    count_p=count_p,\n",
    "    mean_c=mean_c,\n",
    "    sd_c=sd_c,\n",
    "    mean_p=mean_p,\n",
    "    sd_p=sd_p,\n",
    "    tval=tval,\n",
    "    tval_abs=tval_abs,\n",
    "    deg_f=deg_f,\n",
    "    t_pval=t_pval,\n",
    ")\n",
    "stats_df['pcor'] = pcor\n",
    "stats_df.to_csv(s3_path + 'tables/group_stats.csv', index=False)\n",
    "stats_df = stats_df.sort_values(by=['tval_abs'], ascending=False, ignore_index=True)\n",
    "stats_df"
   ]
  },
  {
   "cell_type": "code",
   "execution_count": null,
   "metadata": {},
   "outputs": [],
   "source": [
    "# Calculate normalised data distributions of the significant variables\n",
    "\n",
    "sig_cols = stats_df['biomarker'].iloc[stats_df.index[stats_df['pcor'] < 0.05]].to_list()\n",
    "df_nm = df[sig_cols].copy(deep=True)\n",
    "\n",
    "data_p = pd.DataFrame()\n",
    "data_c = pd.DataFrame()\n",
    "\n",
    "for c in df_nm.columns:\n",
    "    df_nm[c] = minmax_scale(df2[c], feature_range=(0, 1), axis=0)\n",
    "    data_p[c] = df_nm[c][p_idx]\n",
    "    data_c[c] = df_nm[c][c_idx]\n",
    "\n",
    "data_p = [data_p[c].dropna() for c in data_p]\n",
    "data_c = [data_c[c].dropna() for c in data_c]"
   ]
  },
  {
   "cell_type": "code",
   "execution_count": null,
   "metadata": {},
   "outputs": [],
   "source": [
    "# Plot boxplots of the normalised distributions\n",
    "\n",
    "ticklabels = [rename_mapping[v] for v in df_nm.columns]\n",
    "\n",
    "\n",
    "def set_box_color(bp, color):\n",
    "    plt.setp(bp['boxes'], color=color)\n",
    "    plt.setp(bp['whiskers'], color=color)\n",
    "    plt.setp(bp['caps'], color='white')\n",
    "    plt.setp(bp['medians'], color='white')\n",
    "\n",
    "\n",
    "fig = plt.figure(figsize=(15, 7))\n",
    "bpl = plt.boxplot(\n",
    "    data_c,\n",
    "    positions=np.array(range(len(data_c))) * 0.45 - 0.1,\n",
    "    sym='',\n",
    "    widths=0.13,\n",
    "    patch_artist=True,\n",
    "    boxprops=dict(facecolor='navy'),\n",
    "    medianprops=dict(linewidth=2.5),\n",
    ")\n",
    "bpr = plt.boxplot(\n",
    "    data_p,\n",
    "    positions=np.array(range(len(data_c))) * 0.45 + 0.1,\n",
    "    sym='',\n",
    "    widths=0.13,\n",
    "    patch_artist=True,\n",
    "    boxprops=dict(facecolor='tomato'),\n",
    "    medianprops=dict(linewidth=2.5),\n",
    ")\n",
    "set_box_color(bpl, 'navy')\n",
    "set_box_color(bpr, 'tomato')\n",
    "\n",
    "xt = np.array(range(len(data_c))) * 0.45\n",
    "ppos = np.array(range(len(data_c))) * 0.45 + 0.1\n",
    "fig.autofmt_xdate(rotation=45)\n",
    "plt.xticks(xt, ticklabels, fontsize=14)\n",
    "plt.yticks(fontsize=14)\n",
    "plt.xlim(-0.5, round(max(ppos)) + 0.3)\n",
    "plt.ylim(-0.05, 1.3)\n",
    "plt.ylabel('au', fontsize=14)\n",
    "plt.tight_layout()\n",
    "\n",
    "for i in range(len(p_fdr_sig)):\n",
    "    if p_fdr_sig[i] < 0.0001:\n",
    "        text = '****'\n",
    "    elif p_fdr_sig[i] < 0.001:\n",
    "        text = '***'\n",
    "    elif p_fdr_sig[i] < 0.01:\n",
    "        text = '**'\n",
    "    elif p_fdr_sig[i] < 0.05:\n",
    "        text = '*'\n",
    "    plt.text(\n",
    "        xt[i] + 0.15,\n",
    "        1.05,\n",
    "        text,\n",
    "        ha='left',\n",
    "        rotation=90,\n",
    "        wrap=True,\n",
    "        fontsize=18,\n",
    "        color='r',\n",
    "    )\n",
    "\n",
    "plt.savefig('./figures/paper_boxplots.jpg', dpi=150, bbox_inches='tight')\n",
    "plt.show()"
   ]
  },
  {
   "cell_type": "markdown",
   "metadata": {},
   "source": [
    "# Cancer-related descriptive stats"
   ]
  },
  {
   "cell_type": "code",
   "execution_count": null,
   "metadata": {},
   "outputs": [],
   "source": [
    "p_idx = df['label_class'] == True\n",
    "p_n = df['sex'][p_idx].count()"
   ]
  },
  {
   "cell_type": "code",
   "execution_count": null,
   "metadata": {},
   "outputs": [],
   "source": [
    "# Check the number of distinct cancer diagnoses by group\n",
    "\n",
    "df.groupby(['label_class', 'n_cancer_occurred']).n_cancer_occurred.count()"
   ]
  },
  {
   "cell_type": "code",
   "execution_count": null,
   "metadata": {},
   "outputs": [],
   "source": [
    "# Percent distinct cancer diagnoses in the CRC group\n",
    "\n",
    "df['n_cancer_occurred'][p_idx].value_counts() / p_n * 100"
   ]
  },
  {
   "cell_type": "code",
   "execution_count": null,
   "metadata": {},
   "outputs": [],
   "source": [
    "# Tumour behaviour (3 = malignant in primary site)\n",
    "\n",
    "df['label_tumour_behaviour'][p_idx].value_counts() / p_n * 100"
   ]
  },
  {
   "cell_type": "code",
   "execution_count": null,
   "metadata": {},
   "outputs": [],
   "source": [
    "# Calculate the descriptives for age of diagnosis\n",
    "\n",
    "print('Mean:', df['cancer_first_occurred_age'][p_idx].mean())\n",
    "print('SD:', df['cancer_first_occurred_age'][p_idx].std())\n",
    "print('Max:', df['cancer_first_occurred_age'][p_idx].max())\n",
    "print('Min:', df['cancer_first_occurred_age'][p_idx].min())"
   ]
  },
  {
   "cell_type": "code",
   "execution_count": null,
   "metadata": {},
   "outputs": [],
   "source": [
    "# Calculate the number of concurrent cancers by type\n",
    "\n",
    "p_nm = (df['label_class'] == True).sum()\n",
    "\n",
    "icd_codes = [\n",
    "    ['C787', 'C220', 'C221', 'C222', 'C223', 'C224', 'C227', 'C229'],\n",
    "    ['C786', 'C480', 'C481', 'C482', 'C488'],\n",
    "    ['C780', 'C340', 'C341', 'C342', 'C343', 'C348', 'C349'],\n",
    "    ['C61'],\n",
    "    ['C67','C670','C671','C672','C673','C674','C675','C676','C677','C678','C679'],\n",
    "    ['C64'],\n",
    "    ['C70','C700','C701','C709','C71','C710','C711','C712','C713','C714','C715','C716','C717','C718','C719'],\n",
    "    ['C82','C820','C821','C821','C822','C823','C824','C825','C826','C827','C828','C829','C83','C830','C831','C832','C833',\n",
    "    'C834','C835','C836','C837','C838','C839','C84','C840','C841','C842','C843','C844','C845','C846','C847','C848','C849',\n",
    "    'C85','C850','C851','C852','C857','C859','C86','C860','C861','C862','C863','C864','C865','C866'],\n",
    "    ['C73'],\n",
    "    ['C16','C160','C161','C162','C163','C164','C165','C166','C167','C168','C169'],\n",
    "    ['C25','C250','C251','C252','C253','C254','C255','C256','C257','C258','C259'],\n",
    "    ['C530', 'C531', 'C538', 'C539'],\n",
    "]\n",
    "cancer_names = [\n",
    "    'liver',\n",
    "    'peritoneum',\n",
    "    'lung',\n",
    "    'breast',\n",
    "    'prostate',\n",
    "    'kidney',\n",
    "    'brain',\n",
    "    'nh lymphoma',\n",
    "    'thyroid',\n",
    "    'stomach',\n",
    "    'pancreas',\n",
    "    'cervical',\n",
    "]\n",
    "\n",
    "for ca in range(len(cancer_names)):\n",
    "    met_eid = get_othercancer_counts(df_merged, icd_codes[ca])\n",
    "    print(\n",
    "        'N of CRC and',\n",
    "        cancer_names[ca],\n",
    "        'cancer:',\n",
    "        len(met_eid),\n",
    "        'and',\n",
    "        round(len(met_eid) / p_nm * 100, 2),\n",
    "        '%',\n",
    "    )"
   ]
  }
 ],
 "metadata": {
  "kernelspec": {
   "display_name": "Python 3.9.13 64-bit",
   "language": "python",
   "name": "python3"
  },
  "language_info": {
   "codemirror_mode": {
    "name": "ipython",
    "version": 3
   },
   "file_extension": ".py",
   "mimetype": "text/x-python",
   "name": "python",
   "nbconvert_exporter": "python",
   "pygments_lexer": "ipython3",
   "version": "3.9.13"
  },
  "vscode": {
   "interpreter": {
    "hash": "b0fa6594d8f4cbf19f97940f81e996739fb7646882a419484c72d19e05852a7e"
   }
  }
 },
 "nbformat": 4,
 "nbformat_minor": 4
}
