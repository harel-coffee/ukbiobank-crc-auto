{
 "cells": [
  {
   "cell_type": "code",
   "execution_count": null,
   "metadata": {
    "scrolled": true
   },
   "outputs": [],
   "source": [
    "!pip install -U gpboost # 0.7.9\n",
    "!pip install -U seaborn\n",
    "!pip install scikit-learn==1.0.2\n",
    "!pip install pdpbox"
   ]
  },
  {
   "cell_type": "code",
   "execution_count": null,
   "metadata": {},
   "outputs": [],
   "source": [
    "import glob\n",
    "import warnings\n",
    "import pandas as pd\n",
    "import numpy as np\n",
    "import matplotlib.pyplot as plt\n",
    "import seaborn as sns\n",
    "from sklearn.metrics import roc_curve, roc_auc_score\n",
    "from sklearn.model_selection import GridSearchCV\n",
    "from preprocessing.outlier_methods import detect_outliers, plot_distribution\n",
    "import gpboost as gpb\n",
    "from rfe_gpboost import *\n",
    "from gpboost_utils import *\n",
    "warnings.filterwarnings(\"ignore\")\n",
    "\n",
    "%matplotlib inline"
   ]
  },
  {
   "cell_type": "markdown",
   "metadata": {},
   "source": [
    "## Read and preprocess data"
   ]
  },
  {
   "cell_type": "code",
   "execution_count": null,
   "metadata": {},
   "outputs": [],
   "source": [
    "df_long = pd.read_csv(\"path/to/file.csv\")"
   ]
  },
  {
   "cell_type": "code",
   "execution_count": null,
   "metadata": {},
   "outputs": [],
   "source": [
    "###########################\n",
    "# Remove other cancer cases\n",
    "###########################\n",
    "print(f\"Number of participants: {len(df_long.eid.unique())}\")\n",
    "df_label = pd.read_csv(\"path/to/file.csv\")\n",
    "\n",
    "controls_with_othercancer = (\n",
    "    pd.merge(df_long[[\"eid\"]], df_label, on=\"eid\", how=\"left\")\n",
    "    .query(\"label_first_occurred_date.isna() & othercancer_first_occurred_date.notna()\", engine=\"python\")\n",
    "    .eid.unique()\n",
    ")\n",
    "print(f\"Number of participants who developed cancer other than CRC: {len(controls_with_othercancer)}\")\n",
    "df_filtered = df_long.loc[~df_long.eid.isin(controls_with_othercancer), :]\n",
    "\n",
    "othercancer_pre_crc = (\n",
    "    pd.merge(df_long[[\"eid\"]], df_label, on=\"eid\", how=\"left\")\n",
    "    .query(\"(label_first_occurred_date.notna()) & (othercancer_first_occurred_date.notna()) & (label_first_occurred_date>othercancer_first_occurred_date)\", engine=\"python\")\n",
    "    .eid.unique()\n",
    ")\n",
    "print(f\"Number of participants who developed other cancer prior to CRC: {len(othercancer_pre_crc)}\")\n",
    "df_filtered = df_filtered.loc[~df_filtered.eid.isin(othercancer_pre_crc), :]\n",
    "\n",
    "othercancer_with_crc = (\n",
    "    pd.merge(df_long[[\"eid\"]], df_label, on=\"eid\", how=\"left\")\n",
    "    .query(\"(label_first_occurred_date.notna()) & (othercancer_first_occurred_date.notna()) & (label_first_occurred_date==othercancer_first_occurred_date)\", engine=\"python\")\n",
    "    .eid.unique()\n",
    ")\n",
    "print(f\"Number of participants who developed other cancer same time as CRC: {len(othercancer_with_crc)}\")\n",
    "df_filtered = df_filtered.loc[~df_filtered.eid.isin(othercancer_with_crc), :]\n",
    "\n",
    "print(f\"Number of participants left: {len(df_filtered.eid.unique())}\")"
   ]
  },
  {
   "cell_type": "code",
   "execution_count": null,
   "metadata": {},
   "outputs": [],
   "source": [
    "###########################\n",
    "# Select features\n",
    "###########################\n",
    "selected_cols = [\"age\", \"sex\", \"ethnicity\", \"townsend\", \"alcohol\", \"smoke\", \"fasted\", \n",
    "                 \"redmeat_intake\", \"oily_fish_intake\", \"famhist_cancer\", \"edu_university\", \"regular_aspirin\", \"health_rating\", \n",
    "                 \"diseasehist_ibd\", \"diseasehist_cardiovascular\", \"diseasehist_anyliverbiliary\", \"diseasehist_diabetes\",\n",
    "                 \n",
    "                 \"hgrip\", \"tlr\", \"whr\", \"bmi\", \"height\", \"met_rate\", \"impedance\", \"sleep_dur\", \n",
    "                 \"sbp\", \"dbp\", \"pulse\", \"met_mins\",\n",
    "                 \n",
    "                 \"hgb\", \"hct\", \"wbc\", \"rbc\", \"plt\", \"lym\", \"mcv\", \"mono\", \"neut\", \"eos\", \"baso\", \"n_rbc\", \"reti\",\n",
    "                 \"u_sodium\", 'u_potas', \"u_cr\",\n",
    "                 'apoa', 'apob',  'chol', 'hdl', 'ldl', 'tgly', 'urea', 'crp','tprotein',\n",
    "                 'glu', 'phos', 'alb', 'alp', 'alt', 'ast', 'ggt', 'urate', 'd_bil', 't_bil',\n",
    "                 'shbg', 'igf1', 'vitd', 'cysc', 'calc',  'hba1c', 'tst'] \n",
    "\n",
    "X = df_filtered.loc[:, [\"eid\", \"is_label\"] + [col for col in df_filtered.columns if col.split(\"-\")[0] in selected_cols]]\n",
    "print(X.shape)"
   ]
  },
  {
   "cell_type": "code",
   "execution_count": null,
   "metadata": {},
   "outputs": [],
   "source": [
    "###################################\n",
    "# categorize non continuous columns\n",
    "###################################\n",
    "### replace nan with unk\n",
    "X[\"fasted\"] = X[\"fasted\"].astype(float)\n",
    "X[\"ethnicity\"] = X[\"ethnicity\"].apply(lambda x: \"unk\" if pd.isnull(x) == True else (\"white\" if x == 1 else \"nonwhite\"))\n",
    "X[\"met_mins\"] = pd.qcut(X.loc[:, \"met_mins\"], q=5, labels=range(1, 6)).values.add_categories(\"unk\").fillna(\"unk\")\n",
    "\n",
    "X.replace(\n",
    "    {\n",
    "        \"redmeat_intake\": {np.nan: \"unk\"},\n",
    "        \"oily_fish_intake\": {np.nan: \"unk\"},\n",
    "        \"famhist_cancer\": {np.nan: \"unk\"},\n",
    "        \"edu_university\": {np.nan: \"unk\"},\n",
    "        \"regular_aspirin\": {np.nan: \"unk\"},\n",
    "        \"health_rating\": {np.nan: \"unk\"},\n",
    "        \"alcohol\": {np.nan: \"unk\"},\n",
    "        \"smoke\": {np.nan: \"unk\"},\n",
    "        \"diseasehist_ibd\": {np.nan: \"unk\"},\n",
    "        \"diseasehist_cardiovascular\": {np.nan: \"unk\"},\n",
    "        \"diseasehist_anyliverbiliary\": {np.nan: \"unk\"},\n",
    "        \"diseasehist_diabetes\": {np.nan: \"unk\"},\n",
    "    },\n",
    "    inplace=True,\n",
    ")\n",
    "\n",
    "X[\"ethnicity\"] = pd.Categorical(X[\"ethnicity\"], categories=[\"white\", \"nonwhite\", \"unk\"])\n",
    "X[\"redmeat_intake\"] = pd.Categorical(X[\"redmeat_intake\"], categories=[0, 1, 2, 3, 4, 5, \"unk\"])\n",
    "X[\"oily_fish_intake\"] = pd.Categorical(X[\"oily_fish_intake\"], categories=[0, 1, 2, 3, 4, 5, \"unk\"])\n",
    "X[\"famhist_cancer\"] = pd.Categorical(X[\"famhist_cancer\"], categories=[False, True, \"unk\"])\n",
    "X[\"diseasehist_ibd\"] = pd.Categorical(X[\"diseasehist_ibd\"], categories=[False, True, \"unk\"])\n",
    "X[\"diseasehist_cardiovascular\"] = pd.Categorical(X[\"diseasehist_cardiovascular\"], categories=[False, True, \"unk\"])\n",
    "X[\"diseasehist_anyliverbiliary\"] = pd.Categorical(X[\"diseasehist_anyliverbiliary\"], categories=[False, True, \"unk\"])\n",
    "X[\"diseasehist_diabetes\"] = pd.Categorical(X[\"diseasehist_diabetes\"], categories=[False, True, \"unk\"])\n",
    "X[\"edu_university\"] = pd.Categorical(X[\"edu_university\"], categories=[False, True, \"unk\"])\n",
    "X[\"regular_aspirin\"] = pd.Categorical(X[\"regular_aspirin\"], categories=[False, True, \"unk\"])\n",
    "X[\"health_rating\"] = pd.Categorical(X[\"health_rating\"], categories=[4, 3, 2, 1, \"unk\"])  # 1-excellent, 2-good, 3-fair, 4-poor\n",
    "X[\"alcohol\"] = pd.Categorical(X[\"alcohol\"], categories=[0, 1, 2, 3, 4, 5, 6, \"unk\"])\n",
    "X[\"smoke\"] = pd.Categorical(X[\"smoke\"], categories=[0, 1, 2, 3, 4, \"unk\"])\n",
    "\n",
    "categorical_features=[\"sex\", \"ethnicity\", \"fasted\", \"famhist_cancer\", \"edu_university\", \"regular_aspirin\", \n",
    "                      \"diseasehist_cardiovascular\", \"diseasehist_anyliverbiliary\", \"diseasehist_diabetes\",\n",
    "                     \"smoke\", \"alcohol\", \"redmeat_intake\", \"oily_fish_intake\", \"health_rating\", \"met_mins\"] "
   ]
  },
  {
   "cell_type": "code",
   "execution_count": null,
   "metadata": {},
   "outputs": [],
   "source": [
    "##################\n",
    "# remove outliers\n",
    "##################\n",
    "continuous_vars = [\"hgrip\", \"tlr\", \"whr\",  \"height\", \"met_rate\", \"impedance\", \"sleep_dur\", \n",
    "                 \"sbp\", \"dbp\", \"pulse\", \"bmi\",\n",
    "                 \n",
    "                 \"hgb\", \"hct\", \"wbc\", \"rbc\", \"plt\", \"lym\", \"mcv\", \"mono\", \"neut\", \"eos\", \"baso\", \"n_rbc\", \"reti\",\n",
    "                 \"u_sodium\", 'u_potas', \"u_cr\",\n",
    "                 'apoa', 'apob',  'chol', 'hdl', 'ldl', 'tgly', 'urea', 'crp','tprotein',\n",
    "                 'glu', 'phos', 'alb', 'alp', 'alt', 'ast', 'ggt', 'urate', 'd_bil', 't_bil',\n",
    "                 'shbg', 'igf1', 'vitd', 'cysc', 'calc',  'hba1c', 'tst']\n",
    "\n",
    "outliers = []\n",
    "for i, col in enumerate(continuous_vars):\n",
    "    outliers_ = detect_outliers(X, col, method=\"percentile\", percentile_threshold=0.001)\n",
    "    outliers += list(outliers_)\n",
    "\n",
    "outliers = np.unique(outliers)\n",
    "print(f\"Number of outliers: {len(outliers)}\")\n",
    "\n",
    "X.drop(outliers, axis=\"index\", inplace=True)\n",
    "print(X.shape)\n",
    "\n",
    "plot_distribution(X, continuous_vars, ncols=6, plot=\"histogram\", figsize=(20, 20))"
   ]
  },
  {
   "cell_type": "code",
   "execution_count": null,
   "metadata": {},
   "outputs": [],
   "source": [
    "# Number of healthy vs CRC after processing\n",
    "X.groupby(\"eid\").is_label.max().value_counts()"
   ]
  },
  {
   "cell_type": "markdown",
   "metadata": {},
   "source": [
    "## Model and evaluate"
   ]
  },
  {
   "cell_type": "code",
   "execution_count": null,
   "metadata": {},
   "outputs": [],
   "source": [
    "seed = 1\n",
    "n_splits = 5\n",
    "output_name = \"gpboost_results\""
   ]
  },
  {
   "cell_type": "markdown",
   "metadata": {},
   "source": [
    "### Prepare data"
   ]
  },
  {
   "cell_type": "code",
   "execution_count": null,
   "metadata": {},
   "outputs": [],
   "source": [
    "train_eids, holdout_eids = split_dataset(X, seed, balance=False, pct_train=0.8)\n",
    "\n",
    "X_kfold = X[X.eid.isin(train_eids)].reset_index(drop=True)\n",
    "X_holdout = X[X.eid.isin(holdout_eids)].reset_index(drop=True)"
   ]
  },
  {
   "cell_type": "code",
   "execution_count": null,
   "metadata": {},
   "outputs": [],
   "source": [
    "cv, cv_undersampled = stratified_group_kfold_split_undersampled(X_kfold, n_splits, seed)"
   ]
  },
  {
   "cell_type": "code",
   "execution_count": null,
   "metadata": {},
   "outputs": [],
   "source": [
    "# Indices of all selected datapoints by undersampling\n",
    "idx_us = []\n",
    "for (train_idx, test_idx) in cv_undersampled:\n",
    "    idx_us += list(train_idx)\n",
    "    idx_us += list(test_idx)\n",
    "\n",
    "# Get new reset indices for the undersampled data, this is necesssary to be able to use GridSearchCV\n",
    "X_kfold_us = X_kfold.iloc[np.unique(idx_us), :].reset_index()\n",
    "new_to_old_idx = X_kfold_us.pop(\"index\").to_dict()\n",
    "old_to_new_idx = {v: k for k, v in new_to_old_idx.items()}\n",
    "y_kfold_us = X_kfold_us.pop(\"is_label\").to_numpy()\n",
    "\n",
    "cv_undersampled_reset = []\n",
    "for (train_idx, test_idx) in cv_undersampled:\n",
    "    cv_undersampled_reset.append((np.vectorize(old_to_new_idx.get)(train_idx), np.vectorize(old_to_new_idx.get)(test_idx)))"
   ]
  },
  {
   "cell_type": "code",
   "execution_count": null,
   "metadata": {},
   "outputs": [],
   "source": [
    "# Save indices/eids for splits\n",
    "with open(f\"{output_name}/{n_splits}fold_cv_{seed}.npy\", \"wb\") as f:\n",
    "    np.save(f, cv, allow_pickle=True)\n",
    "    np.save(f, cv_undersampled, allow_pickle=True)\n",
    "    np.save(f, cv_undersampled_reset, allow_pickle=True)\n",
    "\n",
    "with open(f\"{output_name}/train_test_eids_{seed}.npy\", \"wb\") as f:\n",
    "    np.save(f, train_eids, allow_pickle=True)\n",
    "    np.save(f, holdout_eids, allow_pickle=True)"
   ]
  },
  {
   "cell_type": "code",
   "execution_count": null,
   "metadata": {},
   "outputs": [],
   "source": [
    "# Load saved data\n",
    "with open(f\"{output_name}/train_test_eids_{seed}.npy\", \"rb\") as f:\n",
    "    train_eids = np.load(f, allow_pickle=True)\n",
    "    holdout_eids = np.load(f, allow_pickle=True)\n",
    "\n",
    "X_kfold = X[X.eid.isin(train_eids)].reset_index(drop=True)\n",
    "X_holdout = X[X.eid.isin(holdout_eids)].reset_index(drop=True)\n",
    "\n",
    "with open(f\"{output_name}/{n_splits}fold_cv_{seed}.npy\", \"rb\") as f:\n",
    "    cv = np.load(f, allow_pickle=True)\n",
    "    cv_undersampled = np.load(f, allow_pickle=True)\n",
    "    cv_undersampled_reset = np.load(f, allow_pickle=True)\n",
    "\n",
    "idx_us = []\n",
    "for (train_idx, test_idx) in cv_undersampled:\n",
    "    idx_us += list(train_idx)\n",
    "    idx_us += list(test_idx)\n",
    "X_kfold_us = X_kfold.iloc[np.unique(idx_us), :].reset_index(drop=True)"
   ]
  },
  {
   "cell_type": "markdown",
   "metadata": {},
   "source": [
    "### Hyperparameter optimization for gpboost"
   ]
  },
  {
   "cell_type": "markdown",
   "metadata": {},
   "source": [
    "#### Imbalanced data"
   ]
  },
  {
   "cell_type": "code",
   "execution_count": null,
   "metadata": {},
   "outputs": [],
   "source": [
    "#########################\n",
    "# Hyperparam optimization\n",
    "#########################\n",
    "num_boost_round = 5000\n",
    "params = {\n",
    "    \"objective\": \"binary\",\n",
    "    \"metric\": \"auc\",\n",
    "    \"seed\": 1,\n",
    "    \"scale_pos_weight\": sum(X_kfold[\"is_label\"] == 0) / sum(X_kfold[\"is_label\"]),\n",
    "}\n",
    "param_grid = {\n",
    "    \"learning_rate\": [0.2, 0.1, 0.01],\n",
    "    \"min_data_in_leaf\": [10, 50, 100],\n",
    "    \"max_depth\": [3, 5, 10, -1],\n",
    "}\n",
    "\n",
    "opt_params = gpboost_cv_hyperparam_search(X_kfold, cv, param_grid, params, num_boost_round, categorical_features, early_stopping_rounds=10)\n",
    "\n",
    "print(\"Best parameters: \" + str(opt_params[\"best_params\"]))\n",
    "print(\"Best number of iterations: \" + str(opt_params[\"best_iter\"]))\n",
    "print(\"Best score: \" + str(opt_params[\"best_score\"]))"
   ]
  },
  {
   "cell_type": "code",
   "execution_count": null,
   "metadata": {},
   "outputs": [],
   "source": [
    "###################################################################\n",
    "# Cross-validation for determining number of boosting iterations\n",
    "###################################################################\n",
    "num_boost_round = 5000\n",
    "params = {\n",
    "    \"objective\": \"binary\",\n",
    "    \"metric\": \"auc\",\n",
    "    \"seed\": 1,\n",
    "    \"scale_pos_weight\": sum(X_kfold[\"is_label\"] == 0) / sum(X_kfold[\"is_label\"]),\n",
    "    \"learning_rate\": 0.2,\n",
    "    \"max_depth\": 5,\n",
    "    \"min_data_in_leaf\": 100,\n",
    "}\n",
    "\n",
    "cvbst = gpboost_cv_niters_search(X_kfold, cv, params, num_boost_round, categorical_features, early_stopping_rounds=10)"
   ]
  },
  {
   "cell_type": "markdown",
   "metadata": {},
   "source": [
    "#### Undersampled data"
   ]
  },
  {
   "cell_type": "code",
   "execution_count": null,
   "metadata": {},
   "outputs": [],
   "source": [
    "#########################################\n",
    "# Hyperparam optimization - undersampled\n",
    "#########################################\n",
    "num_boost_round = 5000\n",
    "params = {\n",
    "    \"objective\": \"binary\",\n",
    "    \"metric\": \"auc\",\n",
    "    \"seed\": 1,\n",
    "}\n",
    "param_grid = {\n",
    "    \"learning_rate\": [0.2, 0.1, 0.01],\n",
    "    \"min_data_in_leaf\": [10, 50, 100],\n",
    "    \"max_depth\": [3, 5, 10, -1],\n",
    "}\n",
    "\n",
    "opt_params = gpboost_cv_hyperparam_search(X_kfold_us, cv_undersampled_reset, param_grid, params, num_boost_round, categorical_features, early_stopping_rounds=10)\n",
    "\n",
    "print(\"Best parameters: \" + str(opt_params[\"best_params\"]))\n",
    "print(\"Best number of iterations: \" + str(opt_params[\"best_iter\"]))\n",
    "print(\"Best score: \" + str(opt_params[\"best_score\"]))"
   ]
  },
  {
   "cell_type": "code",
   "execution_count": null,
   "metadata": {},
   "outputs": [],
   "source": [
    "###################################################################\n",
    "# Cross-validation for determining number of boosting iterations\n",
    "###################################################################\n",
    "num_boost_round = 5000\n",
    "params = {\n",
    "    \"objective\": \"binary\",\n",
    "    \"metric\": \"auc\",\n",
    "    \"seed\": 1,\n",
    "    \"learning_rate\": 0.1,\n",
    "    \"max_depth\": 3,\n",
    "    \"min_data_in_leaf\": 50,\n",
    "}\n",
    "\n",
    "cvbst = gpboost_cv_niters_search(X_kfold_us, cv_undersampled_reset, params, num_boost_round, categorical_features, early_stopping_rounds=10)"
   ]
  },
  {
   "cell_type": "markdown",
   "metadata": {},
   "source": [
    "### Run RFE to find n_features_to_select"
   ]
  },
  {
   "cell_type": "code",
   "execution_count": null,
   "metadata": {},
   "outputs": [],
   "source": [
    "# specify tree-boosting parameters as a dict\n",
    "gpb_params = {\n",
    "    \"objective\": \"binary\",\n",
    "    \"metric\": \"binary_logloss\",\n",
    "    \"verbose\": 0,\n",
    "    \"seed\": 1,\n",
    "    \"learning_rate\": 0.1,\n",
    "    \"max_depth\": 3,\n",
    "    \"min_data_in_leaf\": 50,\n",
    "}\n",
    "num_boost_round = 90"
   ]
  },
  {
   "cell_type": "code",
   "execution_count": null,
   "metadata": {},
   "outputs": [],
   "source": [
    "# Run RFE to select best n features\n",
    "n_features_to_select = [1, 2, 3, 4, 5]\n",
    "metric = \"roc_auc\"\n",
    "importance_type = \"gain\"\n",
    "\n",
    "selector = RFE_Gpboost(categorical_features, gpb_params, num_boost_round, importance_type)\n",
    "gscv = GridSearchCV(\n",
    "    estimator=selector,\n",
    "    param_grid={\"n_features_to_select\": n_features_to_select},\n",
    "    cv=cv_undersampled_reset,\n",
    "    scoring=metric,\n",
    "    refit=False,\n",
    "    verbose=3,\n",
    "    error_score=\"raise\",\n",
    ")\n",
    "gscv.fit(X=X_kfold_us, y=y_kfold_us)"
   ]
  },
  {
   "cell_type": "code",
   "execution_count": null,
   "metadata": {},
   "outputs": [],
   "source": [
    "selected_n_features_to_select = gscv.best_params_[\"n_features_to_select\"]\n",
    "print(f\"Selected n_features_to_select: {selected_n_features_to_select}\")"
   ]
  },
  {
   "cell_type": "code",
   "execution_count": null,
   "metadata": {},
   "outputs": [],
   "source": [
    "# gscv_cv_results = gscv.cv_results_.copy()\n",
    "# np.save(f'{output_name}/rfe_gscv_cv_results.npy', gscv.cv_results_)\n",
    "gscv_cv_results = np.load(f\"{output_name}/rfe_gscv_cv_results.npy\", allow_pickle=\"TRUE\").item()"
   ]
  },
  {
   "cell_type": "code",
   "execution_count": null,
   "metadata": {},
   "outputs": [],
   "source": [
    "for i in range(len(gscv_cv_results[\"params\"])):\n",
    "    print(f\"For n_features_to_select={gscv_cv_results['params'][i]['n_features_to_select']} \\\n",
    "    ROC_AUC score = {gscv_cv_results['mean_test_score'][i]:.3f} +/- {gscv_cv_results['std_test_score'][i]:.3f}\")\n",
    "\n",
    "plt.figure(figsize=(5, 4))\n",
    "plt.plot(list(range(1, len(gscv_cv_results[\"mean_test_score\"]) + 1)), gscv_cv_results[\"mean_test_score\"], color=\"blue\")\n",
    "plt.errorbar(list(range(1, len(gscv_cv_results[\"mean_test_score\"]) + 1)), gscv_cv_results[\"mean_test_score\"], gscv_cv_results[\"std_test_score\"],\n",
    "    color=\"blue\", fmt=\"o\", capsize=3)\n",
    "plt.xticks(list(range(1, len(gscv_cv_results[\"mean_test_score\"]) + 1)))\n",
    "plt.xlabel(\"Number of features selected\")\n",
    "plt.ylabel(\"AUC-ROC\")\n",
    "# plt.savefig(f\"{output_name}/plots/rfe_nfeatures_rocauc.png\", dpi=300, bbox_inches=\"tight\")\n",
    "plt.show()"
   ]
  },
  {
   "cell_type": "markdown",
   "metadata": {},
   "source": [
    "### Aggregate feature importances from kfold experiments to select features"
   ]
  },
  {
   "cell_type": "code",
   "execution_count": null,
   "metadata": {},
   "outputs": [],
   "source": [
    "for fold_i, (train_index, test_index) in enumerate(cv_undersampled):\n",
    "    X_train_us = X_kfold.loc[train_index, :]\n",
    "    X_test_us = X_kfold.loc[test_index, :]\n",
    "    y_train_us = X_train_us.pop(\"is_label\").to_numpy()\n",
    "    y_test_us = X_test_us.pop(\"is_label\").to_numpy()\n",
    "\n",
    "    bst = run_gpboost(X_train_us, y_train_us, categorical_features, gpb_params, num_boost_round)\n",
    "    importance, gpboost_results = get_model_results(bst, X_train_us, y_train_us, X_test_us, y_test_us,\n",
    "        categorical_features, output_name, seed, f\"{fold_i}_us\")"
   ]
  },
  {
   "cell_type": "code",
   "execution_count": null,
   "metadata": {},
   "outputs": [],
   "source": [
    "files = [f for f in sorted(glob.glob(f\"{output_name}/gpboost_importance_{seed}_*_us.csv\"))\n",
    "        if (\"_holdout\" not in f) and (\"_combo\" not in f)]\n",
    "\n",
    "results_gain, results_split = summarize_importance_results(files)\n",
    "results_gain.sort_values(\"mean\", ascending=False).round(3).head(10)"
   ]
  },
  {
   "cell_type": "code",
   "execution_count": null,
   "metadata": {},
   "outputs": [],
   "source": [
    "selected_combo = results_gain.head(selected_n_features_to_select).index.tolist()\n",
    "print(f\"Selected combo by gain importance: {selected_combo}\")"
   ]
  },
  {
   "cell_type": "markdown",
   "metadata": {},
   "source": [
    "### Run with all and selected features on the whole kfold dataset"
   ]
  },
  {
   "cell_type": "code",
   "execution_count": null,
   "metadata": {},
   "outputs": [],
   "source": [
    "gpb_params_imbalanced = {\n",
    "    \"objective\": \"binary\",\n",
    "    \"metric\": \"binary_logloss\",\n",
    "    \"verbose\": 0,\n",
    "    \"seed\": 1,\n",
    "    \"scale_pos_weight\": sum(X_kfold[\"is_label\"] == 0) / sum(X_kfold[\"is_label\"]),  \n",
    "    \"learning_rate\": 0.2,\n",
    "    \"min_data_in_leaf\": 100,\n",
    "    \"max_depth\": 5,\n",
    "}\n",
    "num_boost_round = 180\n",
    "\n",
    "print(\"==== All features - train on whole k-fold ====\")\n",
    "X_kfold_all = X_kfold.copy(deep=True)\n",
    "y_kfold_all = X_kfold_all.pop(\"is_label\").to_numpy()\n",
    "X_holdout_all = X_holdout.copy(deep=True)\n",
    "y_holdout_all = X_holdout_all.pop(\"is_label\").to_numpy()\n",
    "\n",
    "bst = run_gpboost(X_kfold_all, y_kfold_all, categorical_features, gpb_params_imbalanced, num_boost_round)\n",
    "importance, gpboost_results = get_model_results(bst, X_kfold_all, y_kfold_all, X_holdout_all, y_holdout_all, categorical_features, output_name, seed, \"holdout_all\")\n",
    "\n",
    "\n",
    "print(\"==== Selected features - train on whole k-fold ====\")\n",
    "selected_combo = [\"age\", \"health_rating\", \"alp\", \"wbc\", \"lym\"]\n",
    "X_kfold_combo = X_kfold.loc[:, selected_combo + [\"eid\", \"is_label\"]]\n",
    "y_kfold_combo = X_kfold_combo.pop(\"is_label\").to_numpy()\n",
    "X_holdout_combo = X_holdout.loc[:, selected_combo + [\"eid\", \"is_label\"]]\n",
    "y_holdout_combo = X_holdout_combo.pop(\"is_label\").to_numpy()\n",
    "\n",
    "categorical_features_combo = [c for c in categorical_features if c in selected_combo]\n",
    "bst = run_gpboost(X_kfold_combo, y_kfold_combo, categorical_features_combo, gpb_params_imbalanced, num_boost_round)\n",
    "importance, gpboost_results = get_model_results(bst, X_kfold_combo, y_kfold_combo, X_holdout_combo, y_holdout_combo, categorical_features_combo, output_name, seed, \"holdout_combo\")"
   ]
  },
  {
   "cell_type": "markdown",
   "metadata": {},
   "source": [
    "### Holdout Set Results"
   ]
  },
  {
   "cell_type": "code",
   "execution_count": null,
   "metadata": {},
   "outputs": [],
   "source": [
    "pred_files = [\n",
    "    f\"{output_name}/gpboost_test_predictions_{seed}_holdout_combo.csv\",\n",
    "    f\"{output_name}/gpboost_test_predictions_{seed}_holdout_all.csv\",\n",
    "]\n",
    "colors = [\"red\", \"blue\"]\n",
    "scores = []\n",
    "plt.figure(figsize=(5, 4))\n",
    "for i, f in enumerate(pred_files, 1):\n",
    "    pred_file = pd.read_csv(f)\n",
    "    y_test = pred_file[\"y_test\"].ravel()\n",
    "    y_pred = pred_file[\"y_pred_prob\"].ravel()\n",
    "\n",
    "    false_positive_rate, true_positive_rate, threshold = roc_curve(y_test, y_pred)\n",
    "    score = roc_auc_score(y_test, y_pred)\n",
    "    scores.append(score)\n",
    "    sname = \"selected\" if i == 1 else \"all\"\n",
    "    plt.plot(false_positive_rate, true_positive_rate,\n",
    "        label=r\"$AUC_{{{sname}\\/features}}={{{score:.3f}}}$\".format(sname=sname, score=score),\n",
    "        color=colors[i - 1])\n",
    "\n",
    "plt.title(\"Receiver Operating Characteristic\")\n",
    "plt.plot([0, 1], ls=\"--\")\n",
    "plt.ylabel(\"True Positive Rate \\n(Sensitivity)\")\n",
    "plt.xlabel(\"False Positive Rate \\n(1-Specificity)\")\n",
    "plt.legend()\n",
    "# plt.savefig(f\"{output_name}/plots/gpboost_holdout_ROC_curve.png\", dpi=300, bbox_inches=\"tight\")\n",
    "plt.show()"
   ]
  },
  {
   "cell_type": "markdown",
   "metadata": {},
   "source": [
    "### Plot Feature Importance"
   ]
  },
  {
   "cell_type": "code",
   "execution_count": null,
   "metadata": {},
   "outputs": [],
   "source": [
    "import json\n",
    "with open(\"ukb_feature_rename_map.json\", \"r\") as f:\n",
    "    rename_mapping = json.load(f)"
   ]
  },
  {
   "cell_type": "code",
   "execution_count": null,
   "metadata": {},
   "outputs": [],
   "source": [
    "files = [f for f in sorted(glob.glob(f\"{output_name}/gpboost_importance_{seed}_*_us.csv\")) \n",
    "        if (\"_holdout\" not in f) and (\"_combo\" not in f)]\n",
    "\n",
    "results_gain, results_split = summarize_importance_results(files)\n",
    "results_gain.rename(index=rename_mapping, inplace=True)\n",
    "results_split.rename(index=rename_mapping, inplace=True)\n",
    "results_gain.round(3).head(10)"
   ]
  },
  {
   "cell_type": "code",
   "execution_count": null,
   "metadata": {},
   "outputs": [],
   "source": [
    "plt.rcParams[\"axes.axisbelow\"] = True\n",
    "\n",
    "top_n = 20\n",
    "plt.figure(figsize=(8, 9))\n",
    "plt.rcParams.update({\"font.size\": 16})\n",
    "plt.rc(\"axes\", labelsize=16)\n",
    "sns.boxplot(\n",
    "    data=results_gain.loc[\n",
    "        results_gain.sort_values(\"mean\", ascending=False).head(top_n).index,\n",
    "        [f\"{seed}_{i}_us\" for i in range(5)],\n",
    "    ].transpose(),\n",
    "    orient=\"h\",\n",
    "    whis=[0, 100],\n",
    ")\n",
    "plt.xlabel(\"Normalised feature importance (gain-based)\")\n",
    "plt.ylabel(\"\")\n",
    "plt.grid(color=\"lightgrey\", linestyle=\"-\")\n",
    "# plt.savefig(f\"{output_name}/plots/gpboost_kfold_feature_importance_gain_top{top_n}.png\", dpi=300, bbox_inches=\"tight\")\n",
    "plt.show()"
   ]
  },
  {
   "cell_type": "markdown",
   "metadata": {},
   "source": [
    "### Partial Dependence Plots"
   ]
  },
  {
   "cell_type": "code",
   "execution_count": null,
   "metadata": {},
   "outputs": [],
   "source": [
    "bst = gpb.Booster(model_file=f\"{output_name}/gpboost_model_{seed}_holdout_combo.json\")"
   ]
  },
  {
   "cell_type": "code",
   "execution_count": null,
   "metadata": {},
   "outputs": [],
   "source": [
    "feature_to_plot = \"age\"\n",
    "feature_description = \"Age\"\n",
    "plot_params = {\"title\": \"Partial dependency of CRC probability on Age\"}\n",
    "plot_pdp(X_kfold, bst, feature_to_plot, feature_description, plot_params)"
   ]
  },
  {
   "cell_type": "code",
   "execution_count": null,
   "metadata": {},
   "outputs": [],
   "source": [
    "feature_to_plot = \"wbc\"\n",
    "feature_description = \"White Blood Cell Count (10^9/L)\"\n",
    "plot_params = {\"title\": \"Partial dependency of CRC probability on White Blood Cell Count\"}\n",
    "plot_pdp(X_kfold, bst, feature_to_plot, feature_description, plot_params)"
   ]
  },
  {
   "cell_type": "code",
   "execution_count": null,
   "metadata": {},
   "outputs": [],
   "source": [
    "feature_to_plot = \"alp\"\n",
    "feature_description = \"Alkaline phosphatase (U/L)\"\n",
    "plot_params = {\"title\": \"Partial dependency of CRC probability on Alkaline phosphatase (ALP)\"}\n",
    "plot_pdp(X_kfold, bst, feature_to_plot, feature_description, plot_params)"
   ]
  },
  {
   "cell_type": "code",
   "execution_count": null,
   "metadata": {},
   "outputs": [],
   "source": [
    "feature_to_plot = \"lym\"\n",
    "feature_description = \"Lymphocyte percentage\"\n",
    "plot_params = {\"title\": \"Partial dependency of CRC probability on Lymphocyte percentage\"}\n",
    "plot_pdp(X_kfold, bst, feature_to_plot, feature_description, plot_params)"
   ]
  }
 ],
 "metadata": {
  "kernelspec": {
   "display_name": "Python 3.9.13 ('.venv': venv)",
   "language": "python",
   "name": "python3"
  },
  "language_info": {
   "codemirror_mode": {
    "name": "ipython",
    "version": 3
   },
   "file_extension": ".py",
   "mimetype": "text/x-python",
   "name": "python",
   "nbconvert_exporter": "python",
   "pygments_lexer": "ipython3",
   "version": "3.7.10"
  },
  "vscode": {
   "interpreter": {
    "hash": "ce23b4c0bf0a78098c02347557a332f1ff8bb010935efa4176229b2b7def3c93"
   }
  }
 },
 "nbformat": 4,
 "nbformat_minor": 4
}
